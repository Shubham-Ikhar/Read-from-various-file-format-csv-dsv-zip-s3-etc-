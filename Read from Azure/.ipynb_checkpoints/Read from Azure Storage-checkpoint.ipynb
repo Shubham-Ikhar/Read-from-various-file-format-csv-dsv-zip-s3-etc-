{
 "cells": [
  {
   "cell_type": "code",
   "execution_count": 1,
   "metadata": {},
   "outputs": [
    {
     "data": {
      "text/plain": [
       "<azure.storage.blob._blob_client.BlobClient at 0x25f90227608>"
      ]
     },
     "execution_count": 1,
     "metadata": {},
     "output_type": "execute_result"
    }
   ],
   "source": [
    "from azure.storage.blob import BlobClient\n",
    "\n",
    "blob = BlobClient(account_url=\"https://shivampradhan21.blob.core.windows.net\",\n",
    "                  container_name=\"xpanxion\",\n",
    "                  blob_name=\"adult.csv\",\n",
    "                  credential=\"5nd5tpHXxKd6WLMRISSJm6PpUlish6aBY84VTZESCJfdX9YT2eGkS8z0PxU8FEY1pVcZ6dBo4Wr4R0bogLk39Q==\")\n",
    "blob"
   ]
  },
  {
   "cell_type": "code",
   "execution_count": null,
   "metadata": {},
   "outputs": [],
   "source": [
    "\n",
    "with open(\"adult.csv\", \"wb\") as f:\n",
    "    c = blob.download_blob()\n",
    "    data.readinto(f)\n",
    "type(data)"
   ]
  },
  {
   "cell_type": "code",
   "execution_count": null,
   "metadata": {},
   "outputs": [],
   "source": [
    "df = pd.read_csv(StringIO(data.content_as_text()) )\n",
    "df"
   ]
  },
  {
   "cell_type": "code",
   "execution_count": null,
   "metadata": {},
   "outputs": [],
   "source": []
  }
 ],
 "metadata": {
  "kernelspec": {
   "display_name": "Python 3",
   "language": "python",
   "name": "python3"
  },
  "language_info": {
   "codemirror_mode": {
    "name": "ipython",
    "version": 3
   },
   "file_extension": ".py",
   "mimetype": "text/x-python",
   "name": "python",
   "nbconvert_exporter": "python",
   "pygments_lexer": "ipython3",
   "version": "3.7.6"
  }
 },
 "nbformat": 4,
 "nbformat_minor": 4
}
