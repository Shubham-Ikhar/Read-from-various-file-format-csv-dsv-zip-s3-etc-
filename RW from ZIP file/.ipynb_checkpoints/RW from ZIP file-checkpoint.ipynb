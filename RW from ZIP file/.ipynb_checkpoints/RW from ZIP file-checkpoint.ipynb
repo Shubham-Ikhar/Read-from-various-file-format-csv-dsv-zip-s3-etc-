{
 "cells": [
  {
   "cell_type": "markdown",
   "metadata": {},
   "source": [
    "https://www.geeksforgeeks.org/working-zip-files-python/#:~:text=We%20create%20a%20ZipFile%20object,and%20name%20it%20as%20zip.&text=printdir()%20method%20prints%20a%20table%20of%20contents%20for%20the%20archive.&text=extractall()%20method%20will%20extract,path%20in%20the%20zip%20file.\n",
    "\n",
    "\n",
    "https://docs.python.org/3/library/zipfile.html"
   ]
  },
  {
   "cell_type": "code",
   "execution_count": null,
   "metadata": {},
   "outputs": [],
   "source": []
  }
 ],
 "metadata": {
  "kernelspec": {
   "display_name": "Python 3",
   "language": "python",
   "name": "python3"
  },
  "language_info": {
   "codemirror_mode": {
    "name": "ipython",
    "version": 3
   },
   "file_extension": ".py",
   "mimetype": "text/x-python",
   "name": "python",
   "nbconvert_exporter": "python",
   "pygments_lexer": "ipython3",
   "version": "3.7.6"
  }
 },
 "nbformat": 4,
 "nbformat_minor": 4
}
