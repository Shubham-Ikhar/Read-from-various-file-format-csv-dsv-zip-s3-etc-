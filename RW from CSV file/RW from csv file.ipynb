{
 "cells": [
  {
   "cell_type": "code",
   "execution_count": 8,
   "metadata": {},
   "outputs": [],
   "source": [
    "#Before we can use the methods to the csv module, we need to import the module first using:\n",
    "#Reference: https://www.programiz.com/python-programming/csv\n",
    "import csv"
   ]
  },
  {
   "cell_type": "markdown",
   "metadata": {},
   "source": [
    "# To Write a CSV file"
   ]
  },
  {
   "cell_type": "code",
   "execution_count": 9,
   "metadata": {},
   "outputs": [],
   "source": [
    "with open ('details.csv', 'w', newline='') as file:\n",
    "    writer = csv.writer(file)\n",
    "    writer.writerow([\"Name\",\"City\",\"Country\"])\n",
    "    writer.writerow([\"Shubham\",\"Nagpur\",\"India\"])\n",
    "    writer.writerow([\"Ram\",\"Pune\",\"India\"])\n",
    "    writer.writerow(['Rajat','Delhi','India'])\n",
    "    writer.writerow(['Sam','NY','America'])"
   ]
  },
  {
   "cell_type": "code",
   "execution_count": 14,
   "metadata": {},
   "outputs": [],
   "source": [
    "#without dilimiter \n",
    "csv_rowlist = [['Gopal','Amravati','India'],['Rajat','Delhi','India'],['Sam','NY','America']]\n",
    "with open('details3.csv','w') as file:\n",
    "    writer = csv.writer(file)\n",
    "    writer.writerows(csv_rowlist)"
   ]
  },
  {
   "cell_type": "code",
   "execution_count": 15,
   "metadata": {},
   "outputs": [],
   "source": [
    "#with dilimiter\n",
    "csv_rowlist = [['Gopal','Amravati','India'],['Rajat','Delhi','India'],['Sam','NY','America']]\n",
    "with open('details2.csv','w') as file:\n",
    "    writer = csv.writer(file, delimiter= '\\t')\n",
    "    writer.writerows(csv_rowlist)"
   ]
  },
  {
   "cell_type": "markdown",
   "metadata": {},
   "source": [
    "# To Read a CSV file"
   ]
  },
  {
   "cell_type": "code",
   "execution_count": 21,
   "metadata": {},
   "outputs": [
    {
     "name": "stdout",
     "output_type": "stream",
     "text": [
      "Enter file namedetails.csv\n",
      "['Gopal\\tAmravati\\tIndia']\n",
      "[]\n",
      "['Rajat\\tDelhi\\tIndia']\n",
      "[]\n",
      "['Sam\\tNY\\tAmerica']\n",
      "[]\n"
     ]
    }
   ],
   "source": [
    "#To read a CSV file csv.reader() \n",
    "file_name = input(\"Enter file name\")\n",
    "with open (file_name, 'r') as file:\n",
    "    reader = csv.reader(file)\n",
    "    for row in reader:\n",
    "        print(row)\n",
    "        "
   ]
  },
  {
   "cell_type": "code",
   "execution_count": 58,
   "metadata": {},
   "outputs": [
    {
     "name": "stdout",
     "output_type": "stream",
     "text": [
      "['Name,City,Country']\n",
      "['Shubham,Nagpur,India']\n",
      "['Ram,Pune,India']\n",
      "['Rajat,Delhi,India']\n",
      "['Sam,NY,America']\n"
     ]
    }
   ],
   "source": [
    "#CSV file was using tab as a delimiter\n",
    "with open ('details.csv', 'r') as file:\n",
    "    reader = csv.reader(file, delimiter = '\\t')\n",
    "    for row in reader:\n",
    "        print(row)\n",
    "        "
   ]
  },
  {
   "cell_type": "code",
   "execution_count": 11,
   "metadata": {},
   "outputs": [
    {
     "name": "stdout",
     "output_type": "stream",
     "text": [
      "{'Name': 'Shubham', 'City': 'Nagpur', 'Country': 'India'}\n",
      "{'Name': 'Ram', 'City': 'Pune', 'Country': 'India'}\n",
      "{'Name': 'Rajat', 'City': 'Delhi', 'Country': 'India'}\n",
      "{'Name': 'Sam', 'City': 'NY', 'Country': 'America'}\n"
     ]
    }
   ],
   "source": [
    "#The objects of a csv.DictReader() class can be used to read a CSV file as a dictionary\n",
    "with open('details.csv', 'r') as file:\n",
    "    csv_file = csv.DictReader(file)\n",
    "    for row in csv_file:\n",
    "        print(dict(row))"
   ]
  },
  {
   "cell_type": "code",
   "execution_count": 12,
   "metadata": {},
   "outputs": [],
   "source": [
    "#The objects of csv.DictWriter() class can be used to write to a CSV file from a Python dictionary.\n",
    "with open('players.csv', 'w', newline='') as file:\n",
    "    fieldnames = ['player_name', 'score']\n",
    "    writer = csv.DictWriter(file, fieldnames=fieldnames)\n",
    "\n",
    "    writer.writeheader()\n",
    "    writer.writerow({'player_name': 'Andy', 'score': 2870})\n",
    "    writer.writerow({'player_name': 'Roman', 'score': 2822})\n",
    "    writer.writerow({'player_name': 'Poleros', 'score': 2801})"
   ]
  },
  {
   "cell_type": "code",
   "execution_count": 13,
   "metadata": {},
   "outputs": [],
   "source": [
    "#append to the csv file\n",
    "with open('players.csv', 'a') as file:\n",
    "    file.write('\\n' + 'You can write text here')\n",
    "    "
   ]
  },
  {
   "cell_type": "code",
   "execution_count": null,
   "metadata": {},
   "outputs": [],
   "source": []
  },
  {
   "cell_type": "markdown",
   "metadata": {},
   "source": [
    "# Using the Pandas library to Handle CSV files"
   ]
  },
  {
   "cell_type": "code",
   "execution_count": 63,
   "metadata": {},
   "outputs": [],
   "source": [
    "import pandas as pd"
   ]
  },
  {
   "cell_type": "code",
   "execution_count": 68,
   "metadata": {
    "scrolled": true
   },
   "outputs": [
    {
     "data": {
      "text/html": [
       "<div>\n",
       "<style scoped>\n",
       "    .dataframe tbody tr th:only-of-type {\n",
       "        vertical-align: middle;\n",
       "    }\n",
       "\n",
       "    .dataframe tbody tr th {\n",
       "        vertical-align: top;\n",
       "    }\n",
       "\n",
       "    .dataframe thead th {\n",
       "        text-align: right;\n",
       "    }\n",
       "</style>\n",
       "<table border=\"1\" class=\"dataframe\">\n",
       "  <thead>\n",
       "    <tr style=\"text-align: right;\">\n",
       "      <th></th>\n",
       "      <th>Name</th>\n",
       "      <th>City</th>\n",
       "      <th>Country</th>\n",
       "    </tr>\n",
       "  </thead>\n",
       "  <tbody>\n",
       "    <tr>\n",
       "      <th>0</th>\n",
       "      <td>Shubham</td>\n",
       "      <td>Nagpur</td>\n",
       "      <td>India</td>\n",
       "    </tr>\n",
       "    <tr>\n",
       "      <th>1</th>\n",
       "      <td>Ram</td>\n",
       "      <td>Pune</td>\n",
       "      <td>India</td>\n",
       "    </tr>\n",
       "    <tr>\n",
       "      <th>2</th>\n",
       "      <td>Rajat</td>\n",
       "      <td>Delhi</td>\n",
       "      <td>India</td>\n",
       "    </tr>\n",
       "    <tr>\n",
       "      <th>3</th>\n",
       "      <td>Sam</td>\n",
       "      <td>NY</td>\n",
       "      <td>America</td>\n",
       "    </tr>\n",
       "  </tbody>\n",
       "</table>\n",
       "</div>"
      ],
      "text/plain": [
       "      Name    City  Country\n",
       "0  Shubham  Nagpur    India\n",
       "1      Ram    Pune    India\n",
       "2    Rajat   Delhi    India\n",
       "3      Sam      NY  America"
      ]
     },
     "execution_count": 68,
     "metadata": {},
     "output_type": "execute_result"
    }
   ],
   "source": [
    "#To read the CSV file using pandas, we can use the read_csv() function.\n",
    "import pandas as pd\n",
    "pd.read_csv(\"details.csv\")"
   ]
  },
  {
   "cell_type": "code",
   "execution_count": 82,
   "metadata": {},
   "outputs": [],
   "source": [
    "#To write to a CSV file, we need to call the to_csv() function of a DataFrame.\n",
    "# creating a data frame\n",
    "\n",
    "import pandas as pd\n",
    "\n",
    "# creating a data frame\n",
    "df = pd.DataFrame([['Jack', 24], ['Rose', 22]], columns = ['Name', 'Age'])\n",
    "\n",
    "# writing data frame to a CSV file\n",
    "df.to_csv('person.csv')"
   ]
  },
  {
   "cell_type": "code",
   "execution_count": null,
   "metadata": {},
   "outputs": [],
   "source": []
  },
  {
   "cell_type": "code",
   "execution_count": 7,
   "metadata": {},
   "outputs": [
    {
     "name": "stdout",
     "output_type": "stream",
     "text": [
      "[[nan nan nan]\n",
      " [ 0. nan 24.]\n",
      " [ 1. nan 22.]]\n"
     ]
    }
   ],
   "source": [
    "from numpy import genfromtxt\n",
    "\n",
    "my_data = genfromtxt('person.csv', delimiter=',')\n",
    "print(my_data)"
   ]
  },
  {
   "cell_type": "code",
   "execution_count": null,
   "metadata": {},
   "outputs": [],
   "source": []
  }
 ],
 "metadata": {
  "kernelspec": {
   "display_name": "Python 3",
   "language": "python",
   "name": "python3"
  },
  "language_info": {
   "codemirror_mode": {
    "name": "ipython",
    "version": 3
   },
   "file_extension": ".py",
   "mimetype": "text/x-python",
   "name": "python",
   "nbconvert_exporter": "python",
   "pygments_lexer": "ipython3",
   "version": "3.7.6"
  }
 },
 "nbformat": 4,
 "nbformat_minor": 4
}
