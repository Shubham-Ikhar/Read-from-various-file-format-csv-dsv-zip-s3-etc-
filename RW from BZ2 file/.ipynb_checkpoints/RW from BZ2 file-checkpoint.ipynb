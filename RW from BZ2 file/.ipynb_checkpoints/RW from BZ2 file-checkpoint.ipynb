{
 "cells": [
  {
   "cell_type": "code",
   "execution_count": 2,
   "metadata": {},
   "outputs": [],
   "source": [
    "import bz2"
   ]
  },
  {
   "cell_type": "code",
   "execution_count": 28,
   "metadata": {},
   "outputs": [],
   "source": [
    "data = b\"\"\"\\\n",
    "A supercomputer is a computer with a high level of performance as compared to a general-purpose computer. The performance of a supercomputer is commonly measured in floating-point operations per second instead of million instructions per second.\"\"\""
   ]
  },
  {
   "cell_type": "code",
   "execution_count": 29,
   "metadata": {},
   "outputs": [
    {
     "data": {
      "text/plain": [
       "1.3535911602209945"
      ]
     },
     "execution_count": 29,
     "metadata": {},
     "output_type": "execute_result"
    }
   ],
   "source": [
    "c = bz2.compress(data)\n",
    "len(data) / len(c)  # Data compression ratio"
   ]
  },
  {
   "cell_type": "code",
   "execution_count": 30,
   "metadata": {},
   "outputs": [
    {
     "data": {
      "text/plain": [
       "True"
      ]
     },
     "execution_count": 30,
     "metadata": {},
     "output_type": "execute_result"
    }
   ],
   "source": [
    "d = bz2.decompress(c)\n",
    "data == d  # Check equality to original object after round-trip"
   ]
  },
  {
   "cell_type": "code",
   "execution_count": 31,
   "metadata": {},
   "outputs": [],
   "source": [
    "with bz2.open(\"myfile.bz2\", \"wb\") as f:\n",
    "    # Write compressed data to file\n",
    "    unused = f.write(data)"
   ]
  },
  {
   "cell_type": "code",
   "execution_count": 32,
   "metadata": {},
   "outputs": [
    {
     "data": {
      "text/plain": [
       "b'A supercomputer is a computer with a high level of performance as compared to a general-purpose computer. The performance of a supercomputer is commonly measured in floating-point operations per second instead of million instructions per second.'"
      ]
     },
     "execution_count": 32,
     "metadata": {},
     "output_type": "execute_result"
    }
   ],
   "source": [
    "with bz2.open(\"myfile.bz2\", \"rb\") as f:\n",
    "    # Decompress data from file\n",
    "    content = f.read()\n",
    "    \n",
    "content"
   ]
  },
  {
   "cell_type": "code",
   "execution_count": 33,
   "metadata": {
    "scrolled": true
   },
   "outputs": [
    {
     "data": {
      "text/plain": [
       "True"
      ]
     },
     "execution_count": 33,
     "metadata": {},
     "output_type": "execute_result"
    }
   ],
   "source": [
    "content == data"
   ]
  },
  {
   "cell_type": "code",
   "execution_count": null,
   "metadata": {},
   "outputs": [],
   "source": []
  },
  {
   "cell_type": "code",
   "execution_count": null,
   "metadata": {},
   "outputs": [],
   "source": []
  },
  {
   "cell_type": "code",
   "execution_count": 45,
   "metadata": {},
   "outputs": [
    {
     "data": {
      "text/plain": [
       "(b'',\n",
       " b'',\n",
       " b'',\n",
       " b'BZh91AY&SYS\\x9a~\\x99\\x00\\x00\\x03\\x1f\\x80@\\x00\\x00\\x00\\x80@@\\x80.G\\x96\\xa0 \\x00!\\xa8\\xd0\\x06\\x9a6\\x90\\xa6LL\\x83#\\x18\\x1d\\x83\\xee^]\\x1e|\\xa9\\xddgu\\x15G/\\x1a\\x8c\\xd1\\x90\\x14\\x8f\\x8b\\xb9\"\\x9c(H)\\xcd?L\\x80')"
      ]
     },
     "execution_count": 45,
     "metadata": {},
     "output_type": "execute_result"
    }
   ],
   "source": [
    "data = [b'Hello World', b'How are you?', b'welcome to Python']\n",
    "obj = bz2.BZ2Compressor()\n",
    "f = bz2.open(\"test.bz2\", \"wb\")\n",
    "d1 = obj.compress(data[0])\n",
    "d2 = obj.compress(data[1])\n",
    "d3 = obj.compress(data[2])\n",
    "d4 = obj.flush()\n",
    "d1,d2,d3,d4\n"
   ]
  },
  {
   "cell_type": "code",
   "execution_count": 46,
   "metadata": {},
   "outputs": [
    {
     "data": {
      "text/plain": [
       "b'Hello WorldHow are you?welcome to Python'"
      ]
     },
     "execution_count": 46,
     "metadata": {},
     "output_type": "execute_result"
    }
   ],
   "source": [
    "compressedobj=d1+d2+d3+d4\n",
    "f.write(compressedobj)\n",
    "f.close()\n",
    "obj=bz2.BZ2Decompressor()\n",
    "f=bz2.open(\"test.bz2\", \"rb\")\n",
    "data=f.read()\n",
    "obj.decompress(data)"
   ]
  },
  {
   "cell_type": "code",
   "execution_count": 47,
   "metadata": {},
   "outputs": [],
   "source": []
  },
  {
   "cell_type": "code",
   "execution_count": null,
   "metadata": {},
   "outputs": [],
   "source": []
  }
 ],
 "metadata": {
  "kernelspec": {
   "display_name": "Python 3",
   "language": "python",
   "name": "python3"
  },
  "language_info": {
   "codemirror_mode": {
    "name": "ipython",
    "version": 3
   },
   "file_extension": ".py",
   "mimetype": "text/x-python",
   "name": "python",
   "nbconvert_exporter": "python",
   "pygments_lexer": "ipython3",
   "version": "3.7.6"
  }
 },
 "nbformat": 4,
 "nbformat_minor": 4
}
