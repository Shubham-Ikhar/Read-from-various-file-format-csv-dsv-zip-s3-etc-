{
 "cells": [
  {
   "cell_type": "code",
   "execution_count": 2,
   "metadata": {},
   "outputs": [],
   "source": [
    "# import boto3\n",
    "\n",
    "# import io\n",
    "\n",
    "\n",
    "# #buckets\n",
    "\n",
    "# inbucket = 'my-input-bucket'\n",
    "\n",
    "# outbucket = 'my-output-bucket'\n",
    "\n",
    "\n",
    "# s3 = boto3.resource('s3')\n",
    "\n",
    "\n",
    "# outfile = io.StringIO()\n",
    "\n",
    "\n",
    "# # Print out bucket names (optional)\n",
    "\n",
    "# for bucket in s3.buckets.all():\n",
    "\n",
    "#     print(bucket.name)\n",
    "\n",
    "\n",
    "# # Pull data from everyfile in the inbucket\n",
    "\n",
    "# bucket = s3.Bucket(inbucket)\n",
    "\n",
    "# for obj in bucket.objects.all():\n",
    "\n",
    "#   x = obj.get()['Body'].read().decode()\n",
    "\n",
    "#   print(x)\n",
    "\n",
    "\n",
    "# # Generate output file and close it!\n",
    "\n",
    "# outobj = s3.Object(outbucket,'outputfile.txt')\n",
    "\n",
    "# outobj.put(Body=outfile.getvalue())\n",
    "\n",
    "# outfile.close()"
   ]
  },
  {
   "cell_type": "code",
   "execution_count": 4,
   "metadata": {},
   "outputs": [],
   "source": [
    "# # Retrieve the list of existing buckets\n",
    "# s3 = boto3.client('s3')\n",
    "# response = s3.list_buckets()\n",
    "\n",
    "# # Output the bucket names\n",
    "# print('Existing buckets:')\n",
    "# for bucket in response['Buckets']:\n",
    "#     print(f'  {bucket[\"Name\"]}')"
   ]
  },
  {
   "cell_type": "code",
   "execution_count": null,
   "metadata": {},
   "outputs": [],
   "source": [
    "import boto3\n",
    "import csv\n",
    "\n",
    "# get a handle on s3\n",
    "session = boto3.Session(\n",
    "                    aws_access_key_id='XXXXXXXXXXXXXXXXXXXXXXX',\n",
    "                    aws_secret_access_key='XXXXXXXXXXXXXXXXXXXXXXXXXXXXXXXXXXXX',\n",
    "                    region_name='XXXXXXXXXX')\n",
    "                    \n",
    "s3 = session.resource('s3')\n",
    "\n",
    "# get a handle on the bucket that holds your file\n",
    "bucket = s3.Bucket('bucket name') # example: energy_market_procesing\n",
    "\n",
    "# get a handle on the object you want (i.e. your file)\n",
    "obj = bucket.Object(key='file to read') # example: market/zone1/data.csv\n",
    "\n",
    "# get the object\n",
    "response = obj.get()\n",
    "\n",
    "# read the contents of the file\n",
    "lines = response['Body'].read()\n",
    "\n",
    "# saving the file data in a new file test.csv\n",
    "with open('test.csv', 'wb') as file:\n",
    "    file.write(lines)"
   ]
  }
 ],
 "metadata": {
  "kernelspec": {
   "display_name": "Python 3",
   "language": "python",
   "name": "python3"
  },
  "language_info": {
   "codemirror_mode": {
    "name": "ipython",
    "version": 3
   },
   "file_extension": ".py",
   "mimetype": "text/x-python",
   "name": "python",
   "nbconvert_exporter": "python",
   "pygments_lexer": "ipython3",
   "version": "3.7.6"
  }
 },
 "nbformat": 4,
 "nbformat_minor": 4
}
