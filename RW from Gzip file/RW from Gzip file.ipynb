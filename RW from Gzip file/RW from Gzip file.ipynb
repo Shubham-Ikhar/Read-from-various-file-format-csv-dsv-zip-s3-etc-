{
 "cells": [
  {
   "cell_type": "markdown",
   "metadata": {},
   "source": [
    "https://docs.python.org/3/library/gzip.html\n",
    "\n",
    "\n",
    "https://www.tutorialspoint.com/python-support-for-gzip-files-gzip\n",
    "\n",
    "https://cmdlinetips.com/2018/02/how-to-read-a-gzip-file-in-python/"
   ]
  },
  {
   "cell_type": "code",
   "execution_count": 1,
   "metadata": {},
   "outputs": [],
   "source": [
    "import gzip\n",
    "\n",
    "#binary mode: 'r', 'rb', 'a', 'ab', 'w', 'wb', 'x', 'xb'\n",
    "#text mode : 'rt', 'at', 'wt', or 'xt'\n"
   ]
  },
  {
   "cell_type": "code",
   "execution_count": 2,
   "metadata": {},
   "outputs": [
    {
     "data": {
      "text/plain": [
       "b'Hello this is shubham ikhar\\r\\nThis is general text file.\\r\\nwhich we are going to compress into gzip format'"
      ]
     },
     "execution_count": 2,
     "metadata": {},
     "output_type": "execute_result"
    }
   ],
   "source": [
    "#how to read a compressed file\n",
    "import gzip\n",
    "with gzip.open('file.txt.gz', 'rb') as f:\n",
    "    file_content = f.read()\n",
    "    \n",
    "file_content"
   ]
  },
  {
   "cell_type": "code",
   "execution_count": 3,
   "metadata": {},
   "outputs": [],
   "source": [
    "# to create a compressed GZIP file, write into gz file: \n",
    "import gzip\n",
    "content = b\"Lots of content here \\n new line containt, \\t this is really cool stuff\"\n",
    "with gzip.open('new.txt.gz', 'wb') as f:\n",
    "    f.write(content)"
   ]
  },
  {
   "cell_type": "code",
   "execution_count": 4,
   "metadata": {},
   "outputs": [],
   "source": [
    "#to GZIP compress an existing text file\n",
    "import gzip\n",
    "import shutil\n",
    "with open('file.txt', 'rb') as f_in:\n",
    "    with gzip.open('file.txt.gz', 'wb') as f_out:\n",
    "        shutil.copyfileobj(f_in,f_out)"
   ]
  },
  {
   "cell_type": "code",
   "execution_count": 5,
   "metadata": {},
   "outputs": [
    {
     "name": "stdout",
     "output_type": "stream",
     "text": [
      "Hello this is shubham ikhar\n",
      "\n",
      "This is general text file.\n",
      "\n",
      "which we are going to compress into gzip format\n"
     ]
    }
   ],
   "source": [
    "#to read a gzip file line by line \n",
    "\n",
    "with gzip.open('file.txt.gz', 'rt') as f:\n",
    "     for line in f:        \n",
    "        print(line)"
   ]
  },
  {
   "cell_type": "code",
   "execution_count": 6,
   "metadata": {},
   "outputs": [
    {
     "data": {
      "text/html": [
       "<div>\n",
       "<style scoped>\n",
       "    .dataframe tbody tr th:only-of-type {\n",
       "        vertical-align: middle;\n",
       "    }\n",
       "\n",
       "    .dataframe tbody tr th {\n",
       "        vertical-align: top;\n",
       "    }\n",
       "\n",
       "    .dataframe thead th {\n",
       "        text-align: right;\n",
       "    }\n",
       "</style>\n",
       "<table border=\"1\" class=\"dataframe\">\n",
       "  <thead>\n",
       "    <tr style=\"text-align: right;\">\n",
       "      <th></th>\n",
       "      <th>Hello this is shubham ikhar</th>\n",
       "    </tr>\n",
       "  </thead>\n",
       "  <tbody>\n",
       "    <tr>\n",
       "      <th>0</th>\n",
       "      <td>This is general text file.</td>\n",
       "    </tr>\n",
       "    <tr>\n",
       "      <th>1</th>\n",
       "      <td>which we are going to compress into gzip format</td>\n",
       "    </tr>\n",
       "  </tbody>\n",
       "</table>\n",
       "</div>"
      ],
      "text/plain": [
       "                       Hello this is shubham ikhar\n",
       "0                       This is general text file.\n",
       "1  which we are going to compress into gzip format"
      ]
     },
     "execution_count": 6,
     "metadata": {},
     "output_type": "execute_result"
    }
   ],
   "source": [
    "#using pandas\n",
    "import pandas as pd\n",
    "df = pd.read_csv('file.txt.gz')\n",
    "df.head()"
   ]
  },
  {
   "cell_type": "code",
   "execution_count": null,
   "metadata": {},
   "outputs": [],
   "source": []
  }
 ],
 "metadata": {
  "kernelspec": {
   "display_name": "Python 3",
   "language": "python",
   "name": "python3"
  },
  "language_info": {
   "codemirror_mode": {
    "name": "ipython",
    "version": 3
   },
   "file_extension": ".py",
   "mimetype": "text/x-python",
   "name": "python",
   "nbconvert_exporter": "python",
   "pygments_lexer": "ipython3",
   "version": "3.7.6"
  }
 },
 "nbformat": 4,
 "nbformat_minor": 4
}
